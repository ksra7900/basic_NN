{
 "cells": [
  {
   "cell_type": "code",
   "execution_count": 1,
   "metadata": {},
   "outputs": [
    {
     "name": "stderr",
     "output_type": "stream",
     "text": [
      "2023-05-11 01:23:58.658244: I tensorflow/core/platform/cpu_feature_guard.cc:193] This TensorFlow binary is optimized with oneAPI Deep Neural Network Library (oneDNN) to use the following CPU instructions in performance-critical operations:  SSE4.1 SSE4.2 AVX AVX2 FMA\n",
      "To enable them in other operations, rebuild TensorFlow with the appropriate compiler flags.\n"
     ]
    }
   ],
   "source": [
    "import pandas as pd\n",
    "from sklearn.datasets import load_iris\n",
    "from sklearn.model_selection import train_test_split\n",
    "from keras.utils import to_categorical\n",
    "from keras.models import Sequential\n",
    "from keras.layers import Dense"
   ]
  },
  {
   "cell_type": "code",
   "execution_count": 2,
   "metadata": {},
   "outputs": [
    {
     "data": {
      "text/html": [
       "<div>\n",
       "<style scoped>\n",
       "    .dataframe tbody tr th:only-of-type {\n",
       "        vertical-align: middle;\n",
       "    }\n",
       "\n",
       "    .dataframe tbody tr th {\n",
       "        vertical-align: top;\n",
       "    }\n",
       "\n",
       "    .dataframe thead th {\n",
       "        text-align: right;\n",
       "    }\n",
       "</style>\n",
       "<table border=\"1\" class=\"dataframe\">\n",
       "  <thead>\n",
       "    <tr style=\"text-align: right;\">\n",
       "      <th></th>\n",
       "      <th>target</th>\n",
       "    </tr>\n",
       "  </thead>\n",
       "  <tbody>\n",
       "    <tr>\n",
       "      <th>0</th>\n",
       "      <td>0</td>\n",
       "    </tr>\n",
       "    <tr>\n",
       "      <th>1</th>\n",
       "      <td>0</td>\n",
       "    </tr>\n",
       "    <tr>\n",
       "      <th>2</th>\n",
       "      <td>0</td>\n",
       "    </tr>\n",
       "    <tr>\n",
       "      <th>3</th>\n",
       "      <td>0</td>\n",
       "    </tr>\n",
       "    <tr>\n",
       "      <th>4</th>\n",
       "      <td>0</td>\n",
       "    </tr>\n",
       "  </tbody>\n",
       "</table>\n",
       "</div>"
      ],
      "text/plain": [
       "   target\n",
       "0       0\n",
       "1       0\n",
       "2       0\n",
       "3       0\n",
       "4       0"
      ]
     },
     "execution_count": 2,
     "metadata": {},
     "output_type": "execute_result"
    }
   ],
   "source": [
    "data = load_iris()\n",
    "\n",
    "# Read the DataFrame, first using the feature data\n",
    "x = pd.DataFrame(data.data, columns=data.feature_names)\n",
    "# Add a target column, and fill it with the target data\n",
    "y = pd.DataFrame(data.target, columns=['target'])\n",
    "# Show the first five rows\n",
    "y.head()"
   ]
  },
  {
   "cell_type": "code",
   "execution_count": 3,
   "metadata": {},
   "outputs": [],
   "source": [
    "x_train, x_test, y_train, y_test = train_test_split(x, y, test_size=0.1)"
   ]
  },
  {
   "cell_type": "code",
   "execution_count": 4,
   "metadata": {},
   "outputs": [
    {
     "data": {
      "text/plain": [
       "(135, 1)"
      ]
     },
     "execution_count": 4,
     "metadata": {},
     "output_type": "execute_result"
    }
   ],
   "source": [
    "y_train.shape"
   ]
  },
  {
   "cell_type": "code",
   "execution_count": 5,
   "metadata": {},
   "outputs": [
    {
     "name": "stdout",
     "output_type": "stream",
     "text": [
      "Model: \"sequential\"\n",
      "_________________________________________________________________\n",
      " Layer (type)                Output Shape              Param #   \n",
      "=================================================================\n",
      " dense (Dense)               (None, 2)                 10        \n",
      "                                                                 \n",
      " dense_1 (Dense)             (None, 1)                 3         \n",
      "                                                                 \n",
      "=================================================================\n",
      "Total params: 13\n",
      "Trainable params: 13\n",
      "Non-trainable params: 0\n",
      "_________________________________________________________________\n"
     ]
    },
    {
     "name": "stderr",
     "output_type": "stream",
     "text": [
      "2023-05-11 01:24:00.162507: I tensorflow/core/platform/cpu_feature_guard.cc:193] This TensorFlow binary is optimized with oneAPI Deep Neural Network Library (oneDNN) to use the following CPU instructions in performance-critical operations:  SSE4.1 SSE4.2 AVX AVX2 FMA\n",
      "To enable them in other operations, rebuild TensorFlow with the appropriate compiler flags.\n",
      "2023-05-11 01:24:00.163365: I tensorflow/core/common_runtime/process_util.cc:146] Creating new thread pool with default inter op setting: 2. Tune using inter_op_parallelism_threads for best performance.\n"
     ]
    }
   ],
   "source": [
    "model = Sequential()\n",
    "\n",
    "model.add(Dense(2, input_dim = 4, activation='relu'))\n",
    "model.add(Dense(1, activation='softmax'))\n",
    "\n",
    "model.compile(loss='categorical_crossentropy', optimizer='adam', metrics=['accuracy'])\n",
    "model.summary()"
   ]
  },
  {
   "cell_type": "code",
   "execution_count": 6,
   "metadata": {},
   "outputs": [
    {
     "name": "stdout",
     "output_type": "stream",
     "text": [
      "Epoch 1/100\n",
      "5/5 [==============================] - 1s 9ms/step - loss: 0.0000e+00 - accuracy: 0.3333\n",
      "Epoch 2/100\n",
      "5/5 [==============================] - 0s 5ms/step - loss: 0.0000e+00 - accuracy: 0.3333\n",
      "Epoch 3/100\n",
      "5/5 [==============================] - 0s 3ms/step - loss: 0.0000e+00 - accuracy: 0.3333\n",
      "Epoch 4/100\n",
      "5/5 [==============================] - 0s 9ms/step - loss: 0.0000e+00 - accuracy: 0.3333\n",
      "Epoch 5/100\n",
      "5/5 [==============================] - 0s 7ms/step - loss: 0.0000e+00 - accuracy: 0.3333\n",
      "Epoch 6/100\n",
      "5/5 [==============================] - 0s 4ms/step - loss: 0.0000e+00 - accuracy: 0.3333\n",
      "Epoch 7/100\n",
      "5/5 [==============================] - 0s 4ms/step - loss: 0.0000e+00 - accuracy: 0.3333\n",
      "Epoch 8/100\n",
      "5/5 [==============================] - 0s 6ms/step - loss: 0.0000e+00 - accuracy: 0.3333\n",
      "Epoch 9/100\n",
      "5/5 [==============================] - 0s 9ms/step - loss: 0.0000e+00 - accuracy: 0.3333\n",
      "Epoch 10/100\n",
      "5/5 [==============================] - 0s 6ms/step - loss: 0.0000e+00 - accuracy: 0.3333\n",
      "Epoch 11/100\n",
      "5/5 [==============================] - 0s 7ms/step - loss: 0.0000e+00 - accuracy: 0.3333\n",
      "Epoch 12/100\n",
      "5/5 [==============================] - 0s 5ms/step - loss: 0.0000e+00 - accuracy: 0.3333\n",
      "Epoch 13/100\n",
      "5/5 [==============================] - 0s 3ms/step - loss: 0.0000e+00 - accuracy: 0.3333\n",
      "Epoch 14/100\n",
      "5/5 [==============================] - 0s 5ms/step - loss: 0.0000e+00 - accuracy: 0.3333\n",
      "Epoch 15/100\n",
      "5/5 [==============================] - 0s 9ms/step - loss: 0.0000e+00 - accuracy: 0.3333\n",
      "Epoch 16/100\n",
      "5/5 [==============================] - 0s 7ms/step - loss: 0.0000e+00 - accuracy: 0.3333\n",
      "Epoch 17/100\n",
      "5/5 [==============================] - 0s 3ms/step - loss: 0.0000e+00 - accuracy: 0.3333\n",
      "Epoch 18/100\n",
      "5/5 [==============================] - 0s 4ms/step - loss: 0.0000e+00 - accuracy: 0.3333\n",
      "Epoch 19/100\n",
      "5/5 [==============================] - 0s 5ms/step - loss: 0.0000e+00 - accuracy: 0.3333\n",
      "Epoch 20/100\n",
      "5/5 [==============================] - 0s 5ms/step - loss: 0.0000e+00 - accuracy: 0.3333\n",
      "Epoch 21/100\n",
      "5/5 [==============================] - 0s 6ms/step - loss: 0.0000e+00 - accuracy: 0.3333\n",
      "Epoch 22/100\n",
      "5/5 [==============================] - 0s 10ms/step - loss: 0.0000e+00 - accuracy: 0.3333\n",
      "Epoch 23/100\n",
      "5/5 [==============================] - 0s 3ms/step - loss: 0.0000e+00 - accuracy: 0.3333\n",
      "Epoch 24/100\n",
      "5/5 [==============================] - 0s 3ms/step - loss: 0.0000e+00 - accuracy: 0.3333\n",
      "Epoch 25/100\n",
      "5/5 [==============================] - 0s 6ms/step - loss: 0.0000e+00 - accuracy: 0.3333\n",
      "Epoch 26/100\n",
      "5/5 [==============================] - 0s 5ms/step - loss: 0.0000e+00 - accuracy: 0.3333\n",
      "Epoch 27/100\n",
      "5/5 [==============================] - 0s 4ms/step - loss: 0.0000e+00 - accuracy: 0.3333\n",
      "Epoch 28/100\n",
      "5/5 [==============================] - 0s 5ms/step - loss: 0.0000e+00 - accuracy: 0.3333\n",
      "Epoch 29/100\n",
      "5/5 [==============================] - 0s 3ms/step - loss: 0.0000e+00 - accuracy: 0.3333\n",
      "Epoch 30/100\n",
      "5/5 [==============================] - 0s 5ms/step - loss: 0.0000e+00 - accuracy: 0.3333\n",
      "Epoch 31/100\n",
      "5/5 [==============================] - 0s 8ms/step - loss: 0.0000e+00 - accuracy: 0.3333\n",
      "Epoch 32/100\n",
      "5/5 [==============================] - 0s 8ms/step - loss: 0.0000e+00 - accuracy: 0.3333\n",
      "Epoch 33/100\n",
      "5/5 [==============================] - 0s 5ms/step - loss: 0.0000e+00 - accuracy: 0.3333\n",
      "Epoch 34/100\n",
      "5/5 [==============================] - 0s 3ms/step - loss: 0.0000e+00 - accuracy: 0.3333\n",
      "Epoch 35/100\n",
      "5/5 [==============================] - 0s 5ms/step - loss: 0.0000e+00 - accuracy: 0.3333\n",
      "Epoch 36/100\n",
      "5/5 [==============================] - 0s 3ms/step - loss: 0.0000e+00 - accuracy: 0.3333\n",
      "Epoch 37/100\n",
      "5/5 [==============================] - 0s 3ms/step - loss: 0.0000e+00 - accuracy: 0.3333\n",
      "Epoch 38/100\n",
      "5/5 [==============================] - 0s 4ms/step - loss: 0.0000e+00 - accuracy: 0.3333\n",
      "Epoch 39/100\n",
      "5/5 [==============================] - 0s 4ms/step - loss: 0.0000e+00 - accuracy: 0.3333\n",
      "Epoch 40/100\n",
      "5/5 [==============================] - 0s 3ms/step - loss: 0.0000e+00 - accuracy: 0.3333\n",
      "Epoch 41/100\n",
      "5/5 [==============================] - 0s 3ms/step - loss: 0.0000e+00 - accuracy: 0.3333\n",
      "Epoch 42/100\n",
      "5/5 [==============================] - 0s 3ms/step - loss: 0.0000e+00 - accuracy: 0.3333\n",
      "Epoch 43/100\n",
      "5/5 [==============================] - 0s 3ms/step - loss: 0.0000e+00 - accuracy: 0.3333\n",
      "Epoch 44/100\n",
      "5/5 [==============================] - 0s 3ms/step - loss: 0.0000e+00 - accuracy: 0.3333\n",
      "Epoch 45/100\n",
      "5/5 [==============================] - 0s 4ms/step - loss: 0.0000e+00 - accuracy: 0.3333\n",
      "Epoch 46/100\n",
      "5/5 [==============================] - 0s 4ms/step - loss: 0.0000e+00 - accuracy: 0.3333\n",
      "Epoch 47/100\n",
      "5/5 [==============================] - 0s 3ms/step - loss: 0.0000e+00 - accuracy: 0.3333\n",
      "Epoch 48/100\n",
      "5/5 [==============================] - 0s 7ms/step - loss: 0.0000e+00 - accuracy: 0.3333\n",
      "Epoch 49/100\n",
      "5/5 [==============================] - 0s 5ms/step - loss: 0.0000e+00 - accuracy: 0.3333\n",
      "Epoch 50/100\n",
      "5/5 [==============================] - 0s 5ms/step - loss: 0.0000e+00 - accuracy: 0.3333\n",
      "Epoch 51/100\n",
      "5/5 [==============================] - 0s 3ms/step - loss: 0.0000e+00 - accuracy: 0.3333\n",
      "Epoch 52/100\n",
      "5/5 [==============================] - 0s 5ms/step - loss: 0.0000e+00 - accuracy: 0.3333\n",
      "Epoch 53/100\n",
      "5/5 [==============================] - 0s 10ms/step - loss: 0.0000e+00 - accuracy: 0.3333\n",
      "Epoch 54/100\n",
      "5/5 [==============================] - 0s 12ms/step - loss: 0.0000e+00 - accuracy: 0.3333\n",
      "Epoch 55/100\n",
      "5/5 [==============================] - 0s 10ms/step - loss: 0.0000e+00 - accuracy: 0.3333\n",
      "Epoch 56/100\n",
      "5/5 [==============================] - 0s 4ms/step - loss: 0.0000e+00 - accuracy: 0.3333\n",
      "Epoch 57/100\n",
      "5/5 [==============================] - 0s 8ms/step - loss: 0.0000e+00 - accuracy: 0.3333\n",
      "Epoch 58/100\n",
      "5/5 [==============================] - 0s 6ms/step - loss: 0.0000e+00 - accuracy: 0.3333\n",
      "Epoch 59/100\n",
      "5/5 [==============================] - 0s 7ms/step - loss: 0.0000e+00 - accuracy: 0.3333\n",
      "Epoch 60/100\n",
      "5/5 [==============================] - 0s 7ms/step - loss: 0.0000e+00 - accuracy: 0.3333\n",
      "Epoch 61/100\n",
      "5/5 [==============================] - 0s 10ms/step - loss: 0.0000e+00 - accuracy: 0.3333\n",
      "Epoch 62/100\n",
      "5/5 [==============================] - 0s 6ms/step - loss: 0.0000e+00 - accuracy: 0.3333\n",
      "Epoch 63/100\n",
      "5/5 [==============================] - 0s 4ms/step - loss: 0.0000e+00 - accuracy: 0.3333\n",
      "Epoch 64/100\n",
      "5/5 [==============================] - 0s 3ms/step - loss: 0.0000e+00 - accuracy: 0.3333\n",
      "Epoch 65/100\n",
      "5/5 [==============================] - 0s 3ms/step - loss: 0.0000e+00 - accuracy: 0.3333\n",
      "Epoch 66/100\n",
      "5/5 [==============================] - 0s 6ms/step - loss: 0.0000e+00 - accuracy: 0.3333\n",
      "Epoch 67/100\n",
      "5/5 [==============================] - 0s 7ms/step - loss: 0.0000e+00 - accuracy: 0.3333\n",
      "Epoch 68/100\n",
      "5/5 [==============================] - 0s 5ms/step - loss: 0.0000e+00 - accuracy: 0.3333\n",
      "Epoch 69/100\n",
      "5/5 [==============================] - 0s 6ms/step - loss: 0.0000e+00 - accuracy: 0.3333\n",
      "Epoch 70/100\n",
      "5/5 [==============================] - 0s 4ms/step - loss: 0.0000e+00 - accuracy: 0.3333\n",
      "Epoch 71/100\n",
      "5/5 [==============================] - 0s 10ms/step - loss: 0.0000e+00 - accuracy: 0.3333\n",
      "Epoch 72/100\n",
      "5/5 [==============================] - 0s 7ms/step - loss: 0.0000e+00 - accuracy: 0.3333\n",
      "Epoch 73/100\n",
      "5/5 [==============================] - 0s 5ms/step - loss: 0.0000e+00 - accuracy: 0.3333\n",
      "Epoch 74/100\n",
      "5/5 [==============================] - 0s 8ms/step - loss: 0.0000e+00 - accuracy: 0.3333\n",
      "Epoch 75/100\n",
      "5/5 [==============================] - 0s 7ms/step - loss: 0.0000e+00 - accuracy: 0.3333\n",
      "Epoch 76/100\n",
      "5/5 [==============================] - 0s 5ms/step - loss: 0.0000e+00 - accuracy: 0.3333\n",
      "Epoch 77/100\n",
      "5/5 [==============================] - 0s 6ms/step - loss: 0.0000e+00 - accuracy: 0.3333\n",
      "Epoch 78/100\n",
      "5/5 [==============================] - 0s 5ms/step - loss: 0.0000e+00 - accuracy: 0.3333\n",
      "Epoch 79/100\n",
      "5/5 [==============================] - 0s 5ms/step - loss: 0.0000e+00 - accuracy: 0.3333\n",
      "Epoch 80/100\n",
      "5/5 [==============================] - 0s 8ms/step - loss: 0.0000e+00 - accuracy: 0.3333\n",
      "Epoch 81/100\n",
      "5/5 [==============================] - 0s 3ms/step - loss: 0.0000e+00 - accuracy: 0.3333\n",
      "Epoch 82/100\n",
      "5/5 [==============================] - 0s 7ms/step - loss: 0.0000e+00 - accuracy: 0.3333\n",
      "Epoch 83/100\n",
      "5/5 [==============================] - 0s 5ms/step - loss: 0.0000e+00 - accuracy: 0.3333\n",
      "Epoch 84/100\n",
      "5/5 [==============================] - 0s 7ms/step - loss: 0.0000e+00 - accuracy: 0.3333\n",
      "Epoch 85/100\n",
      "5/5 [==============================] - 0s 12ms/step - loss: 0.0000e+00 - accuracy: 0.3333\n",
      "Epoch 86/100\n",
      "5/5 [==============================] - 0s 7ms/step - loss: 0.0000e+00 - accuracy: 0.3333\n",
      "Epoch 87/100\n",
      "5/5 [==============================] - 0s 4ms/step - loss: 0.0000e+00 - accuracy: 0.3333\n",
      "Epoch 88/100\n",
      "5/5 [==============================] - 0s 11ms/step - loss: 0.0000e+00 - accuracy: 0.3333\n",
      "Epoch 89/100\n",
      "5/5 [==============================] - 0s 6ms/step - loss: 0.0000e+00 - accuracy: 0.3333\n",
      "Epoch 90/100\n",
      "5/5 [==============================] - 0s 8ms/step - loss: 0.0000e+00 - accuracy: 0.3333\n",
      "Epoch 91/100\n",
      "5/5 [==============================] - 0s 19ms/step - loss: 0.0000e+00 - accuracy: 0.3333\n",
      "Epoch 92/100\n",
      "5/5 [==============================] - 0s 8ms/step - loss: 0.0000e+00 - accuracy: 0.3333\n",
      "Epoch 93/100\n",
      "5/5 [==============================] - 0s 22ms/step - loss: 0.0000e+00 - accuracy: 0.3333\n",
      "Epoch 94/100\n",
      "5/5 [==============================] - 0s 7ms/step - loss: 0.0000e+00 - accuracy: 0.3333\n",
      "Epoch 95/100\n",
      "5/5 [==============================] - 0s 3ms/step - loss: 0.0000e+00 - accuracy: 0.3333\n",
      "Epoch 96/100\n",
      "5/5 [==============================] - 0s 3ms/step - loss: 0.0000e+00 - accuracy: 0.3333\n",
      "Epoch 97/100\n",
      "5/5 [==============================] - 0s 5ms/step - loss: 0.0000e+00 - accuracy: 0.3333\n",
      "Epoch 98/100\n",
      "5/5 [==============================] - 0s 4ms/step - loss: 0.0000e+00 - accuracy: 0.3333\n",
      "Epoch 99/100\n",
      "5/5 [==============================] - 0s 3ms/step - loss: 0.0000e+00 - accuracy: 0.3333\n",
      "Epoch 100/100\n",
      "5/5 [==============================] - 0s 5ms/step - loss: 0.0000e+00 - accuracy: 0.3333\n"
     ]
    }
   ],
   "source": [
    "history = model.fit(x_train, y_train, epochs=100, )"
   ]
  },
  {
   "cell_type": "code",
   "execution_count": 7,
   "metadata": {},
   "outputs": [
    {
     "name": "stdout",
     "output_type": "stream",
     "text": [
      "1/1 [==============================] - 0s 206ms/step - loss: 0.0000e+00 - accuracy: 0.3333\n",
      "Accuracy: 33.33\n"
     ]
    }
   ],
   "source": [
    "_, accuracy = model.evaluate(x_test, y_test)\n",
    "print('Accuracy: %.2f' % (accuracy*100))"
   ]
  }
 ],
 "metadata": {
  "kernelspec": {
   "display_name": "base",
   "language": "python",
   "name": "python3"
  },
  "language_info": {
   "codemirror_mode": {
    "name": "ipython",
    "version": 3
   },
   "file_extension": ".py",
   "mimetype": "text/x-python",
   "name": "python",
   "nbconvert_exporter": "python",
   "pygments_lexer": "ipython3",
   "version": "3.10.9"
  },
  "orig_nbformat": 4,
  "vscode": {
   "interpreter": {
    "hash": "d424be8d132ebbadfc6a3459dbf47ff06b8d688f637e6b83fd7430137af7376e"
   }
  }
 },
 "nbformat": 4,
 "nbformat_minor": 2
}
